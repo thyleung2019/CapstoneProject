{
 "cells": [
  {
   "cell_type": "code",
   "execution_count": 1,
   "metadata": {},
   "outputs": [
    {
     "name": "stdout",
     "output_type": "stream",
     "text": [
      "Collecting package metadata (current_repodata.json): done\n",
      "Solving environment: done\n",
      "\n",
      "## Package Plan ##\n",
      "\n",
      "  environment location: /Users/timleung/opt/anaconda3\n",
      "\n",
      "  added / updated specs:\n",
      "    - geopy\n",
      "\n",
      "\n",
      "The following packages will be downloaded:\n",
      "\n",
      "    package                    |            build\n",
      "    ---------------------------|-----------------\n",
      "    conda-4.10.0               |   py38h50d1736_1         3.1 MB  conda-forge\n",
      "    ------------------------------------------------------------\n",
      "                                           Total:         3.1 MB\n",
      "\n",
      "The following packages will be UPDATED:\n",
      "\n",
      "  conda                                4.9.2-py38h50d1736_0 --> 4.10.0-py38h50d1736_1\n",
      "\n",
      "\n",
      "\n",
      "Downloading and Extracting Packages\n",
      "conda-4.10.0         | 3.1 MB    | ##################################### | 100% \n",
      "Preparing transaction: done\n",
      "Verifying transaction: done\n",
      "Executing transaction: done\n"
     ]
    }
   ],
   "source": [
    "import numpy as np\n",
    "import pandas as pd\n",
    "import json\n",
    "!conda install -c conda-forge geopy --yes # uncomment this line if you haven't completed the Foursquare API lab\n",
    "from geopy.geocoders import Nominatim # convert an address into latitude and longitude values\n",
    "\n",
    "import requests # library to handle requests\n",
    "from pandas.io.json import json_normalize # tranform JSON file into a pandas dataframe"
   ]
  },
  {
   "cell_type": "code",
   "execution_count": 2,
   "metadata": {},
   "outputs": [],
   "source": [
    "## Establish Foursqaure connection criteria\n",
    "CLIENT_ID = 'MQTFBZP2RL1MXT25Q0PXMECSDPMBBG1CQJ3PCUATE53DPPP3' # your Foursquare ID\n",
    "CLIENT_SECRET = '0XIKSWAPVQBFL0KDCNG2PPXPOSBJ1YH3RHPTFQVFGXUNIFL0' # your Foursquare Secret\n",
    "VERSION = '20180605' # Foursquare API version"
   ]
  },
  {
   "cell_type": "code",
   "execution_count": 3,
   "metadata": {},
   "outputs": [],
   "source": [
    "# function that extracts the category of the venue\n",
    "def get_category_type(row):\n",
    "    try:\n",
    "        categories_list = row['categories']\n",
    "    except:\n",
    "        categories_list = row['venue.categories']\n",
    "        \n",
    "    if len(categories_list) == 0:\n",
    "        return None\n",
    "    else:\n",
    "        return categories_list[0]['name']"
   ]
  },
  {
   "cell_type": "code",
   "execution_count": 33,
   "metadata": {},
   "outputs": [],
   "source": [
    "##establish dataframe\n",
    "Borough = ['Bronx', 'Brooklyn', 'Manhattan', 'Queens', 'Staten Island']\n",
    "df = pd.DataFrame(columns = ['Borough',\"longitude\",\"latitude\",\"population\",\"# of Food venues\",\"land area\"])\n",
    "df['Borough'] = Borough\n",
    "\n",
    "LIMIT = 250\n",
    "\n",
    "\n",
    "geolocator = Nominatim(user_agent=\"ny_explorer\")\n",
    "\n",
    "#go through each New York borough and get the number of food venues in each borough\n",
    "for index, row in df.iterrows():\n",
    "    ##find longtitude and latitude for each borough\n",
    "    location = geolocator.geocode(df.loc[index,\"Borough\"]+\", NY\")\n",
    "    df.loc[index,\"longitude\"] = location.longitude\n",
    "    df.loc[index,\"latitude\"] = location.latitude\n",
    "    \n",
    "    ##submit venue search request to FourSquare\n",
    "    ACCESS_TOKEN = '2SUIY5F3SO1UXMIG0ALM1MTXZM4ZOXLO5DRPVNZJ2IYUIPCA' # your FourSquare Access Token\n",
    "    url = 'https://api.foursquare.com/v2/venues/search?client_id={}&client_secret={}&ll={},{}&oauth_token={}&v={}&limit={}'.format(CLIENT_ID, CLIENT_SECRET, location.latitude, location.longitude,ACCESS_TOKEN, VERSION,LIMIT)\n",
    "    results = requests.get(url).json()\n",
    "    \n",
    "    ##clean data and extract category\n",
    "    venues = pd.json_normalize(results['response']['venues'])\n",
    "    venues['categories1'] = venues.apply(get_category_type, axis=1)\n",
    "    \n",
    "    ##count number of Food venues exist in each borough\n",
    "    group_venues = venues.groupby('categories1').count()\n",
    "    \n",
    "    restaurant = 0\n",
    "    \n",
    "    if 'Fast Food Restaurant' in group_venues.index:\n",
    "        restaurant = restaurant + group_venues.loc['Fast Food Restaurant','categories']\n",
    "\n",
    "    if 'Asian Restaurant' in group_venues.index:\n",
    "        restaurant = restaurant + group_venues.loc['Asian Restaurant','categories']\n",
    "        \n",
    "    if 'Bakery' in group_venues.index:\n",
    "        restaurant = restaurant + group_venues.loc['Bakery','categories']\n",
    "    \n",
    "    if 'Breakfast Spot' in group_venues.index:\n",
    "        restaurant = restaurant + group_venues.loc['Breakfast Spot','categories']\n",
    "    \n",
    "    if 'Burger Joint' in group_venues.index:\n",
    "        restaurant = restaurant + group_venues.loc['Burger Joint','categories']\n",
    "    \n",
    "    if 'Café' in group_venues.index:\n",
    "        restaurant = restaurant + group_venues.loc['Café','categories']\n",
    "        \n",
    "    if 'Caribbean Restaurant' in group_venues.index:\n",
    "        restaurant = restaurant + group_venues.loc['Caribbean Restaurant','categories']\n",
    "    \n",
    "    if 'Chinese Restaurant' in group_venues.index:\n",
    "        restaurant = restaurant + group_venues.loc['Chinese Restaurant','categories']\n",
    "    \n",
    "    if 'Coffee Shop' in group_venues.index:\n",
    "        restaurant = restaurant + group_venues.loc['Coffee Shop','categories']\n",
    "        \n",
    "    if 'Donut Shop' in group_venues.index:\n",
    "        restaurant = restaurant + group_venues.loc['Donut Shop','categories']\n",
    "    \n",
    "    if 'Food Truck' in group_venues.index:\n",
    "        restaurant = restaurant + group_venues.loc['Food Truck','categories']\n",
    "        \n",
    "    if 'French Restaurant' in group_venues.index:\n",
    "        restaurant = restaurant + group_venues.loc['French Restaurant','categories']\n",
    "    \n",
    "    if 'Fried Chicken Joint' in group_venues.index:\n",
    "        restaurant = restaurant + group_venues.loc['Fried Chicken Joint','categories']\n",
    "    \n",
    "    if 'Gourmet Shop' in group_venues.index:\n",
    "        restaurant = restaurant + group_venues.loc['Gourmet Shop','categories']\n",
    "        \n",
    "    if 'Italian Restaurant' in group_venues.index:\n",
    "        restaurant = restaurant + group_venues.loc['Italian Restaurant','categories']\n",
    "        \n",
    "    if 'Latin American Restaurant' in group_venues.index:\n",
    "        restaurant = restaurant + group_venues.loc['Latin American Restaurant','categories']\n",
    "    \n",
    "    if 'Mac & Cheese Joint' in group_venues.index:\n",
    "        restaurant = restaurant + group_venues.loc['Mac & Cheese Joint','categories']\n",
    "        \n",
    "    if 'Pizza Place' in group_venues.index:\n",
    "        restaurant = restaurant + group_venues.loc['Pizza Place','categories']\n",
    "    \n",
    "    if 'Restaurant' in group_venues.index:\n",
    "        restaurant = restaurant + group_venues.loc['Restaurant','categories']\n",
    "        \n",
    "    if 'Sandwich Place' in group_venues.index:\n",
    "        restaurant = restaurant + group_venues.loc['Food Truck','categories']\n",
    "    \n",
    "    if 'Seafood Restaurant' in group_venues.index:\n",
    "        restaurant = restaurant + group_venues.loc['Seafood Restaurant','categories']\n",
    "    \n",
    "    if 'Southern / Soul Food Restaurant' in group_venues.index:\n",
    "        restaurant = restaurant + group_venues.loc['Southern / Soul Food Restaurant','categories']\n",
    "        \n",
    "    if 'Vegetarian / Vegan Restaurant' in group_venues.index:\n",
    "        restaurant = restaurant + group_venues.loc['Vegetarian / Vegan Restaurant','categories']\n",
    "        \n",
    "    if 'Wings Joint' in group_venues.index:\n",
    "        restaurant = restaurant + group_venues.loc['Wings Joint','categories'] \n",
    "    \n",
    "    df.loc[index,'# of Food venues'] = restaurant\n"
   ]
  },
  {
   "cell_type": "code",
   "execution_count": 36,
   "metadata": {},
   "outputs": [],
   "source": [
    "df.set_index('Borough', inplace=True)\n",
    "##Include population data collected from new york government\n",
    "df.loc['Bronx','population'] = 1418207\n",
    "df.loc['Brooklyn','population'] = 2559903\n",
    "df.loc['Manhattan','population'] = 1628706\n",
    "df.loc['Queens','population'] = 2253858\n",
    "df.loc['Staten Island','population'] = 476143"
   ]
  },
  {
   "cell_type": "code",
   "execution_count": 37,
   "metadata": {},
   "outputs": [],
   "source": [
    "## Find the number of fast food resautrant per capita\n",
    "df['restaurant per capita'] = df[\"# of Food venues\"] / df[\"population\"]"
   ]
  },
  {
   "cell_type": "code",
   "execution_count": 38,
   "metadata": {},
   "outputs": [
    {
     "data": {
      "text/plain": [
       "Text(0.5, 0, 'Borough')"
      ]
     },
     "execution_count": 38,
     "metadata": {},
     "output_type": "execute_result"
    },
    {
     "data": {
      "image/png": "[encoded data removed]",
      "text/plain": [
       "<Figure size 432x288 with 1 Axes>"
      ]
     },
     "metadata": {
      "needs_background": "light"
     },
     "output_type": "display_data"
    }
   ],
   "source": [
    "import matplotlib.pyplot as plt\n",
    "%matplotlib inline\n",
    "\n",
    "## plot Food venues per capita in bar graph\n",
    "plt.bar(df.index,df['restaurant per capita'])\n",
    "plt.title(\"Food venues per capita in New York Boroughs\", y=1.05)\n",
    "plt.ylabel(\"Food venues per capita\")\n",
    "plt.xlabel(\"Borough\")"
   ]
  },
  {
   "cell_type": "code",
   "execution_count": 39,
   "metadata": {},
   "outputs": [],
   "source": [
    "##Include land area collected from new york government \n",
    "landarea = [110,183.4,59.1,280,152]\n",
    "df['land area'] = landarea\n",
    "df['restaurant per area'] = df[\"# of Food venues\"] / df[\"land area\"]"
   ]
  },
  {
   "cell_type": "code",
   "execution_count": 42,
   "metadata": {},
   "outputs": [
    {
     "data": {
      "text/plain": [
       "Text(0.5, 0, 'Borough')"
      ]
     },
     "execution_count": 42,
     "metadata": {},
     "output_type": "execute_result"
    },
    {
     "data": {
      "image/png": "[encoded data removed]",
      "text/plain": [
       "<Figure size 432x288 with 1 Axes>"
      ]
     },
     "metadata": {
      "needs_background": "light"
     },
     "output_type": "display_data"
    }
   ],
   "source": [
    "## plot Food venuse per square km of land in bar graph\n",
    "plt.bar(df.index,df['restaurant per area'])\n",
    "plt.title(\"Food venues per square km of land in New York Boroughs\", y=1.05)\n",
    "plt.ylabel(\"Food venues per square km of land\")\n",
    "plt.xlabel(\"Borough\")"
   ]
  }
 ],
 "metadata": {
  "kernelspec": {
   "display_name": "Python 3",
   "language": "python",
   "name": "python3"
  },
  "language_info": {
   "codemirror_mode": {
    "name": "ipython",
    "version": 3
   },
   "file_extension": ".py",
   "mimetype": "text/x-python",
   "name": "python",
   "nbconvert_exporter": "python",
   "pygments_lexer": "ipython3",
   "version": "3.8.5"
  }
 },
 "nbformat": 4,
 "nbformat_minor": 4
}
